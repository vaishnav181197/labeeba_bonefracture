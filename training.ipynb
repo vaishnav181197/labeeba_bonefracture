{
 "cells": [
  {
   "cell_type": "code",
   "execution_count": 1,
   "id": "9a54c38c",
   "metadata": {},
   "outputs": [],
   "source": [
    "import numpy as np\n",
    "\n",
    "data=np.load('data.npy')\n",
    "target=np.load('target.npy')"
   ]
  },
  {
   "cell_type": "code",
   "execution_count": 2,
   "id": "7093a9a7",
   "metadata": {},
   "outputs": [],
   "source": [
    "from keras.models import Sequential\n",
    "from keras.layers import Dense,Activation,Flatten,Dropout\n",
    "from keras.layers import Conv2D,MaxPooling2D\n",
    "from keras.callbacks import ModelCheckpoint"
   ]
  },
  {
   "cell_type": "code",
   "execution_count": 3,
   "id": "3ea1aa9e",
   "metadata": {},
   "outputs": [],
   "source": [
    "model=Sequential()\n",
    "\n",
    "model.add(Conv2D(200,(3,3),input_shape=data.shape[1:]))\n",
    "model.add(Activation('relu'))\n",
    "model.add(MaxPooling2D(pool_size=(2,2)))\n",
    "#The first CNN layer followed by Relu and MaxPooling layers\n",
    "\n",
    "model.add(Conv2D(100,(3,3)))\n",
    "model.add(Activation('relu'))\n",
    "model.add(MaxPooling2D(pool_size=(2,2)))\n",
    "#The second convolution layer followed by Relu and MaxPooling layers\n",
    "\n",
    "model.add(Conv2D(100,(3,3)))\n",
    "model.add(Activation('relu'))\n",
    "model.add(MaxPooling2D(pool_size=(2,2)))\n",
    "\n",
    "model.add(Flatten())\n",
    "model.add(Dropout(0.5))\n",
    "#Flatten layer to stack the output convolutions from second convolution layer\n",
    "model.add(Dense(50,activation='relu'))\n",
    "#Dense layer of 50 neurons\n",
    "model.add(Dense(2,activation='softmax'))\n",
    "#The Final layer with two outputs for two categories"
   ]
  },
  {
   "cell_type": "code",
   "execution_count": 4,
   "id": "648656de",
   "metadata": {},
   "outputs": [],
   "source": [
    "model.compile(loss='categorical_crossentropy',optimizer='adam',metrics=['accuracy'])"
   ]
  },
  {
   "cell_type": "code",
   "execution_count": 5,
   "id": "b3f1bb30",
   "metadata": {},
   "outputs": [],
   "source": [
    "from sklearn.model_selection import train_test_split\n",
    "\n",
    "train_data,test_data,train_target,test_target=train_test_split(data,target,test_size=0.1)"
   ]
  },
  {
   "cell_type": "code",
   "execution_count": 6,
   "id": "724f3d61",
   "metadata": {},
   "outputs": [
    {
     "name": "stdout",
     "output_type": "stream",
     "text": [
      "Epoch 1/5\n",
      "200/200 [==============================] - ETA: 0s - loss: 0.5922 - accuracy: 0.6768INFO:tensorflow:Assets written to: model-001.model\\assets\n",
      "200/200 [==============================] - 310s 2s/step - loss: 0.5922 - accuracy: 0.6768 - val_loss: 0.4785 - val_accuracy: 0.7838\n",
      "Epoch 2/5\n",
      "200/200 [==============================] - ETA: 0s - loss: 0.3717 - accuracy: 0.8260INFO:tensorflow:Assets written to: model-002.model\\assets\n",
      "200/200 [==============================] - 330s 2s/step - loss: 0.3717 - accuracy: 0.8260 - val_loss: 0.2157 - val_accuracy: 0.9179\n",
      "Epoch 3/5\n",
      "200/200 [==============================] - ETA: 0s - loss: 0.1872 - accuracy: 0.9303INFO:tensorflow:Assets written to: model-003.model\\assets\n",
      "200/200 [==============================] - 339s 2s/step - loss: 0.1872 - accuracy: 0.9303 - val_loss: 0.1509 - val_accuracy: 0.9480\n",
      "Epoch 4/5\n",
      "200/200 [==============================] - ETA: 0s - loss: 0.0998 - accuracy: 0.9660INFO:tensorflow:Assets written to: model-004.model\\assets\n",
      "200/200 [==============================] - 371s 2s/step - loss: 0.0998 - accuracy: 0.9660 - val_loss: 0.0867 - val_accuracy: 0.9662\n",
      "Epoch 5/5\n",
      "200/200 [==============================] - ETA: 0s - loss: 0.0629 - accuracy: 0.9788INFO:tensorflow:Assets written to: model-005.model\\assets\n",
      "200/200 [==============================] - 325s 2s/step - loss: 0.0629 - accuracy: 0.9788 - val_loss: 0.0740 - val_accuracy: 0.9781\n"
     ]
    }
   ],
   "source": [
    "checkpoint = ModelCheckpoint('model-{epoch:03d}.model',monitor='val_loss',verbose=0,save_best_only=True,mode='auto')\n",
    "\n",
    "history=model.fit(train_data,train_target,epochs=5,callbacks=[checkpoint],validation_split=0.2)"
   ]
  },
  {
   "cell_type": "code",
   "execution_count": 7,
   "id": "ab326cb8",
   "metadata": {},
   "outputs": [],
   "source": [
    "model.save(\"facedetcetor.h5\")"
   ]
  },
  {
   "cell_type": "code",
   "execution_count": null,
   "id": "37b07fdd",
   "metadata": {},
   "outputs": [],
   "source": []
  },
  {
   "cell_type": "code",
   "execution_count": null,
   "id": "65402a63",
   "metadata": {},
   "outputs": [],
   "source": []
  }
 ],
 "metadata": {
  "kernelspec": {
   "display_name": "Python 3 (ipykernel)",
   "language": "python",
   "name": "python3"
  },
  "language_info": {
   "codemirror_mode": {
    "name": "ipython",
    "version": 3
   },
   "file_extension": ".py",
   "mimetype": "text/x-python",
   "name": "python",
   "nbconvert_exporter": "python",
   "pygments_lexer": "ipython3",
   "version": "3.9.13"
  }
 },
 "nbformat": 4,
 "nbformat_minor": 5
}
